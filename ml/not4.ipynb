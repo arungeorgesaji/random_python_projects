{
 "cells": [
  {
   "cell_type": "markdown",
   "id": "a7bcdb9f",
   "metadata": {
    "scrolled": false
   },
   "source": [
    "a2 = 1\n",
    "b1 = 2\n"
   ]
  },
  {
   "cell_type": "code",
   "execution_count": null,
   "id": "600c1b88",
   "metadata": {},
   "outputs": [],
   "source": [
    "a<tab>:"
   ]
  },
  {
   "cell_type": "code",
   "execution_count": null,
   "id": "4f160e59",
   "metadata": {},
   "outputs": [],
   "source": [
    "import *ran*"
   ]
  },
  {
   "cell_type": "code",
   "execution_count": null,
   "id": "f1a093b7",
   "metadata": {},
   "outputs": [],
   "source": [
    "import *ran*"
   ]
  },
  {
   "cell_type": "code",
   "execution_count": null,
   "id": "70bf9cb3",
   "metadata": {},
   "outputs": [],
   "source": [
    "import *ran*"
   ]
  },
  {
   "cell_type": "code",
   "execution_count": null,
   "id": "4445e20c",
   "metadata": {},
   "outputs": [],
   "source": [
    "import *ran*"
   ]
  },
  {
   "cell_type": "code",
   "execution_count": null,
   "id": "59ccd4ea",
   "metadata": {},
   "outputs": [],
   "source": []
  },
  {
   "cell_type": "code",
   "execution_count": 2,
   "id": "19d17e5a",
   "metadata": {},
   "outputs": [],
   "source": []
  },
  {
   "cell_type": "code",
   "execution_count": null,
   "id": "f6d5d81d",
   "metadata": {},
   "outputs": [],
   "source": []
  },
  {
   "cell_type": "code",
   "execution_count": null,
   "id": "b5d02ef3",
   "metadata": {},
   "outputs": [],
   "source": []
  },
  {
   "cell_type": "code",
   "execution_count": null,
   "id": "57edebcc",
   "metadata": {},
   "outputs": [],
   "source": [
    "\n",
    "\n"
   ]
  },
  {
   "cell_type": "code",
   "execution_count": null,
   "id": "800f09c0",
   "metadata": {},
   "outputs": [],
   "source": []
  },
  {
   "cell_type": "code",
   "execution_count": null,
   "id": "fba537e3",
   "metadata": {},
   "outputs": [],
   "source": []
  },
  {
   "cell_type": "code",
   "execution_count": null,
   "id": "eac6193a",
   "metadata": {},
   "outputs": [],
   "source": [
    "\n",
    "\n",
    "\n",
    "\n",
    "\n"
   ]
  },
  {
   "cell_type": "code",
   "execution_count": null,
   "id": "377de168",
   "metadata": {},
   "outputs": [],
   "source": []
  },
  {
   "cell_type": "code",
   "execution_count": null,
   "id": "509eec72",
   "metadata": {},
   "outputs": [],
   "source": []
  },
  {
   "cell_type": "code",
   "execution_count": null,
   "id": "9a06d5d5",
   "metadata": {},
   "outputs": [],
   "source": []
  },
  {
   "cell_type": "code",
   "execution_count": null,
   "id": "1b0460cb",
   "metadata": {},
   "outputs": [],
   "source": []
  }
 ],
 "metadata": {
  "kernelspec": {
   "display_name": "Python 3 (ipykernel)",
   "language": "python",
   "name": "python3"
  },
  "language_info": {
   "codemirror_mode": {
    "name": "ipython",
    "version": 3
   },
   "file_extension": ".py",
   "mimetype": "text/x-python",
   "name": "python",
   "nbconvert_exporter": "python",
   "pygments_lexer": "ipython3",
   "version": "3.10.0"
  }
 },
 "nbformat": 4,
 "nbformat_minor": 5
}
